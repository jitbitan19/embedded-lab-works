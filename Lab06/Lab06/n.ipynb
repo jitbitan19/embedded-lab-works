{
 "cells": [
  {
   "cell_type": "code",
   "execution_count": 2,
   "metadata": {},
   "outputs": [
    {
     "name": "stdout",
     "output_type": "stream",
     "text": [
      "LDI R30, 74\n",
      "CALL LCD_CHAR\n",
      "\n",
      "LDI R30, 105\n",
      "CALL LCD_CHAR\n",
      "\n",
      "LDI R30, 116\n",
      "CALL LCD_CHAR\n",
      "\n",
      "LDI R30, 98\n",
      "CALL LCD_CHAR\n",
      "\n",
      "LDI R30, 105\n",
      "CALL LCD_CHAR\n",
      "\n",
      "LDI R30, 116\n",
      "CALL LCD_CHAR\n",
      "\n",
      "LDI R30, 97\n",
      "CALL LCD_CHAR\n",
      "\n",
      "LDI R30, 110\n",
      "CALL LCD_CHAR\n",
      "\n"
     ]
    }
   ],
   "source": [
    "name = \"Jitbitan\"\n",
    "for c in name:\n",
    "    print(f\"LDI R30, {ord(c)}\")\n",
    "    print(f\"CALL LCD_CHAR\\n\");"
   ]
  },
  {
   "cell_type": "code",
   "execution_count": null,
   "metadata": {},
   "outputs": [],
   "source": []
  }
 ],
 "metadata": {
  "kernelspec": {
   "display_name": "Python 3",
   "language": "python",
   "name": "python3"
  },
  "language_info": {
   "codemirror_mode": {
    "name": "ipython",
    "version": 3
   },
   "file_extension": ".py",
   "mimetype": "text/x-python",
   "name": "python",
   "nbconvert_exporter": "python",
   "pygments_lexer": "ipython3",
   "version": "3.10.5"
  }
 },
 "nbformat": 4,
 "nbformat_minor": 2
}
