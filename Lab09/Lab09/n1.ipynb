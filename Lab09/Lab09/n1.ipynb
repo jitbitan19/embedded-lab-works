{
 "cells": [
  {
   "cell_type": "code",
   "execution_count": 1,
   "metadata": {},
   "outputs": [],
   "source": [
    "msg = \"Echo Check!\""
   ]
  },
  {
   "cell_type": "code",
   "execution_count": 2,
   "metadata": {},
   "outputs": [
    {
     "name": "stdout",
     "output_type": "stream",
     "text": [
      "echo_check:\n",
      "\tldi r26, 'E'\n",
      "\tcall usart_txchar\n",
      "\tldi r26, 'c'\n",
      "\tcall usart_txchar\n",
      "\tldi r26, 'h'\n",
      "\tcall usart_txchar\n",
      "\tldi r26, 'o'\n",
      "\tcall usart_txchar\n",
      "\tldi r26, ' '\n",
      "\tcall usart_txchar\n",
      "\tldi r26, 'C'\n",
      "\tcall usart_txchar\n",
      "\tldi r26, 'h'\n",
      "\tcall usart_txchar\n",
      "\tldi r26, 'e'\n",
      "\tcall usart_txchar\n",
      "\tldi r26, 'c'\n",
      "\tcall usart_txchar\n",
      "\tldi r26, 'k'\n",
      "\tcall usart_txchar\n",
      "\tldi r26, '!'\n",
      "\tcall usart_txchar\n",
      "\tret\n"
     ]
    }
   ],
   "source": [
    "print(\"echo_check:\")\n",
    "for i in msg:\n",
    "    print(f\"\\tldi r26, '{i}'\")\n",
    "    print(\"\\tcall usart_txchar\")\n",
    "# print(f\"\\tldi r26, '\\\\n'\")\n",
    "# print(f\"\\tcall usart_txchar\")\n",
    "print(\"\\tret\")"
   ]
  }
 ],
 "metadata": {
  "kernelspec": {
   "display_name": "Python 3",
   "language": "python",
   "name": "python3"
  },
  "language_info": {
   "codemirror_mode": {
    "name": "ipython",
    "version": 3
   },
   "file_extension": ".py",
   "mimetype": "text/x-python",
   "name": "python",
   "nbconvert_exporter": "python",
   "pygments_lexer": "ipython3",
   "version": "3.10.5"
  }
 },
 "nbformat": 4,
 "nbformat_minor": 2
}
